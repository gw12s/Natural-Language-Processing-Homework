{
 "cells": [
  {
   "cell_type": "markdown",
   "metadata": {},
   "source": [
    "# News Headlines Sentiment\n",
    "\n",
    "Use the news api to pull the latest news articles for bitcoin and ethereum and create a DataFrame of sentiment scores for each coin. \n",
    "\n",
    "Use descriptive statistics to answer the following questions:\n",
    "1. Which coin had the highest mean positive score?\n",
    "2. Which coin had the highest negative score?\n",
    "3. Which coin had the highest positive score?"
   ]
  },
  {
   "cell_type": "code",
   "execution_count": 1,
   "metadata": {},
   "outputs": [],
   "source": [
    "# Initial imports\n",
    "import os\n",
    "import pandas as pd\n",
    "from dotenv import load_dotenv\n",
    "from datetime import datetime, timedelta\n",
    "from nltk.sentiment.vader import SentimentIntensityAnalyzer\n",
    "from newsapi.newsapi_client import NewsApiClient\n",
    "analyzer = SentimentIntensityAnalyzer()\n",
    "\n",
    "%matplotlib inline"
   ]
  },
  {
   "cell_type": "code",
   "execution_count": 2,
   "metadata": {},
   "outputs": [],
   "source": [
    "# Read your api key environment variable\n",
    "load_dotenv()\n",
    "# initiate SentimentIntensityAnalyzer\n",
    "sent_analyzer = SentimentIntensityAnalyzer()\n"
   ]
  },
  {
   "cell_type": "code",
   "execution_count": 3,
   "metadata": {},
   "outputs": [],
   "source": [
    "# Create a newsapi client\n",
    "newsapi = NewsApiClient(api_key=os.environ[\"NEWSAPI\"])\n"
   ]
  },
  {
   "cell_type": "code",
   "execution_count": 37,
   "metadata": {},
   "outputs": [],
   "source": [
    "# kp: to avoid repeating code create function to get_everything for fetching news articles by keyword \n",
    "def get_headlines(keyword):\n",
    "    \"\"\"\n",
    "    Utilizes newsapi.get_everything() to pull today's headlines and return a list of headlines.\n",
    "    \"\"\"\n",
    "    all_headlines = []\n",
    "    date = datetime.today()\n",
    "    articles = newsapi.get_everything(\n",
    "        q=keyword,\n",
    "        from_param=date,\n",
    "        language=\"en\",\n",
    "        sort_by=\"relevancy\",\n",
    "        page=1)\n",
    "    headlines = []\n",
    "    for i in range(0, len(articles[\"articles\"])):\n",
    "        headlines.append(articles[\"articles\"][i][\"title\"])\n",
    "    all_headlines.append(headlines)\n",
    "    return all_headlines"
   ]
  },
  {
   "cell_type": "code",
   "execution_count": 61,
   "metadata": {},
   "outputs": [],
   "source": [
    "def test_all(keyword):\n",
    "    \"\"\"\n",
    "    pull headlines from keyword (ex: 'bitcoin')\n",
    "    analyzes sentiment\n",
    "    creates dataframe with sentiments listed & headline\n",
    "    \"\"\"\n",
    "    df_columns = ['Compound', 'Negative', 'Neutral', 'Positive', 'Text']\n",
    "    date = datetime.today()\n",
    "    articles = newsapi.get_everything(\n",
    "        q=keyword,\n",
    "        from_param=date,\n",
    "        language=\"en\",\n",
    "        sort_by=\"relevancy\",\n",
    "        page=1)\n",
    "    headlines = [article['title'] for article in articles['articles']]\n",
    "    #figure out how to name a dataframe with keyword \n",
    "    keyword_df = pd.DataFrame(columns=df_columns)\n",
    "    keyword_df['Text'] = pd.Series(headlines)\n",
    "    \"\"\"for text in keyword_df:\n",
    "        for index, row in text.iterrows():\n",
    "            scores = analyzer.polarity_scores(row.Text)\n",
    "            row.Compound = scores['compound']\n",
    "            row.Negative = scores['neg']\n",
    "            row.Neutral = scores['neu']\n",
    "            row.Positive = scores['pos']\n",
    "    for text in keyword_df:\n",
    "        numeric_col_labels = text.columns.drop('Text')\n",
    "        text[numeric_col_labels] = text[numberic_col_labels].apply(pd.to_numeric, errors='coerce')\"\"\"\n",
    "    return keyword_df"
   ]
  },
  {
   "cell_type": "code",
   "execution_count": 62,
   "metadata": {},
   "outputs": [
    {
     "data": {
      "text/html": [
       "<div>\n",
       "<style scoped>\n",
       "    .dataframe tbody tr th:only-of-type {\n",
       "        vertical-align: middle;\n",
       "    }\n",
       "\n",
       "    .dataframe tbody tr th {\n",
       "        vertical-align: top;\n",
       "    }\n",
       "\n",
       "    .dataframe thead th {\n",
       "        text-align: right;\n",
       "    }\n",
       "</style>\n",
       "<table border=\"1\" class=\"dataframe\">\n",
       "  <thead>\n",
       "    <tr style=\"text-align: right;\">\n",
       "      <th></th>\n",
       "      <th>Compound</th>\n",
       "      <th>Negative</th>\n",
       "      <th>Neutral</th>\n",
       "      <th>Positive</th>\n",
       "      <th>Text</th>\n",
       "    </tr>\n",
       "  </thead>\n",
       "  <tbody>\n",
       "    <tr>\n",
       "      <th>0</th>\n",
       "      <td>NaN</td>\n",
       "      <td>NaN</td>\n",
       "      <td>NaN</td>\n",
       "      <td>NaN</td>\n",
       "      <td>Crypto fans rejoice: Bitcoin rallies to the br...</td>\n",
       "    </tr>\n",
       "    <tr>\n",
       "      <th>1</th>\n",
       "      <td>NaN</td>\n",
       "      <td>NaN</td>\n",
       "      <td>NaN</td>\n",
       "      <td>NaN</td>\n",
       "      <td>Closing Time for Bitcoin’s Iconic Room 77 – ‘A...</td>\n",
       "    </tr>\n",
       "    <tr>\n",
       "      <th>2</th>\n",
       "      <td>NaN</td>\n",
       "      <td>NaN</td>\n",
       "      <td>NaN</td>\n",
       "      <td>NaN</td>\n",
       "      <td>Video: Fresh Competition Is Shaping The Bitcoi...</td>\n",
       "    </tr>\n",
       "    <tr>\n",
       "      <th>3</th>\n",
       "      <td>NaN</td>\n",
       "      <td>NaN</td>\n",
       "      <td>NaN</td>\n",
       "      <td>NaN</td>\n",
       "      <td>FinCEN Fines Bitcoin-Mixing CEO $60M in Landma...</td>\n",
       "    </tr>\n",
       "    <tr>\n",
       "      <th>4</th>\n",
       "      <td>NaN</td>\n",
       "      <td>NaN</td>\n",
       "      <td>NaN</td>\n",
       "      <td>NaN</td>\n",
       "      <td>US Alleges Top Russian Cyber Hackers Tried to ...</td>\n",
       "    </tr>\n",
       "    <tr>\n",
       "      <th>5</th>\n",
       "      <td>NaN</td>\n",
       "      <td>NaN</td>\n",
       "      <td>NaN</td>\n",
       "      <td>NaN</td>\n",
       "      <td>Market Wrap: Bitcoin Bounces to $11.8K; Over 1...</td>\n",
       "    </tr>\n",
       "    <tr>\n",
       "      <th>6</th>\n",
       "      <td>NaN</td>\n",
       "      <td>NaN</td>\n",
       "      <td>NaN</td>\n",
       "      <td>NaN</td>\n",
       "      <td>Market Wrap: Bitcoin Bounces to $11.8K; Over 1...</td>\n",
       "    </tr>\n",
       "    <tr>\n",
       "      <th>7</th>\n",
       "      <td>NaN</td>\n",
       "      <td>NaN</td>\n",
       "      <td>NaN</td>\n",
       "      <td>NaN</td>\n",
       "      <td>3iQ’s The Bitcoin Fund Offers Trading Denomina...</td>\n",
       "    </tr>\n",
       "    <tr>\n",
       "      <th>8</th>\n",
       "      <td>NaN</td>\n",
       "      <td>NaN</td>\n",
       "      <td>NaN</td>\n",
       "      <td>NaN</td>\n",
       "      <td>Bitcoin price holds strong amid negative news ...</td>\n",
       "    </tr>\n",
       "    <tr>\n",
       "      <th>9</th>\n",
       "      <td>NaN</td>\n",
       "      <td>NaN</td>\n",
       "      <td>NaN</td>\n",
       "      <td>NaN</td>\n",
       "      <td>Institutional Bitcoin longs at record-high, he...</td>\n",
       "    </tr>\n",
       "    <tr>\n",
       "      <th>10</th>\n",
       "      <td>NaN</td>\n",
       "      <td>NaN</td>\n",
       "      <td>NaN</td>\n",
       "      <td>NaN</td>\n",
       "      <td>Price analysis 10/19: BTC, ETH, XRP, BCH, BNB,...</td>\n",
       "    </tr>\n",
       "    <tr>\n",
       "      <th>11</th>\n",
       "      <td>NaN</td>\n",
       "      <td>NaN</td>\n",
       "      <td>NaN</td>\n",
       "      <td>NaN</td>\n",
       "      <td>Number of Bitcoin wallets holding over 100 BTC...</td>\n",
       "    </tr>\n",
       "    <tr>\n",
       "      <th>12</th>\n",
       "      <td>NaN</td>\n",
       "      <td>NaN</td>\n",
       "      <td>NaN</td>\n",
       "      <td>NaN</td>\n",
       "      <td>Pelosi, Mnuchin Edge Closer to a Stimulus Deal...</td>\n",
       "    </tr>\n",
       "    <tr>\n",
       "      <th>13</th>\n",
       "      <td>NaN</td>\n",
       "      <td>NaN</td>\n",
       "      <td>NaN</td>\n",
       "      <td>NaN</td>\n",
       "      <td>Bitcoin Price Prediction: BTC recent 3% breako...</td>\n",
       "    </tr>\n",
       "    <tr>\n",
       "      <th>14</th>\n",
       "      <td>NaN</td>\n",
       "      <td>NaN</td>\n",
       "      <td>NaN</td>\n",
       "      <td>NaN</td>\n",
       "      <td>Cryptocurrencies Price Prediction: Bitcoin, Ri...</td>\n",
       "    </tr>\n",
       "    <tr>\n",
       "      <th>15</th>\n",
       "      <td>NaN</td>\n",
       "      <td>NaN</td>\n",
       "      <td>NaN</td>\n",
       "      <td>NaN</td>\n",
       "      <td>US financial watchdog fines early Bitcoin mixe...</td>\n",
       "    </tr>\n",
       "    <tr>\n",
       "      <th>16</th>\n",
       "      <td>NaN</td>\n",
       "      <td>NaN</td>\n",
       "      <td>NaN</td>\n",
       "      <td>NaN</td>\n",
       "      <td>US Treasury hits bitcoin mixer with $60 millio...</td>\n",
       "    </tr>\n",
       "    <tr>\n",
       "      <th>17</th>\n",
       "      <td>NaN</td>\n",
       "      <td>NaN</td>\n",
       "      <td>NaN</td>\n",
       "      <td>NaN</td>\n",
       "      <td>Crypto Roundup: October 19th, 2020</td>\n",
       "    </tr>\n",
       "    <tr>\n",
       "      <th>18</th>\n",
       "      <td>NaN</td>\n",
       "      <td>NaN</td>\n",
       "      <td>NaN</td>\n",
       "      <td>NaN</td>\n",
       "      <td>Bitcoin Rallies While Stocks Stumble: Is The C...</td>\n",
       "    </tr>\n",
       "    <tr>\n",
       "      <th>19</th>\n",
       "      <td>NaN</td>\n",
       "      <td>NaN</td>\n",
       "      <td>NaN</td>\n",
       "      <td>NaN</td>\n",
       "      <td>Pelosi, Mnuchin Edge Closer to a Stimulus Deal...</td>\n",
       "    </tr>\n",
       "  </tbody>\n",
       "</table>\n",
       "</div>"
      ],
      "text/plain": [
       "   Compound Negative Neutral Positive  \\\n",
       "0       NaN      NaN     NaN      NaN   \n",
       "1       NaN      NaN     NaN      NaN   \n",
       "2       NaN      NaN     NaN      NaN   \n",
       "3       NaN      NaN     NaN      NaN   \n",
       "4       NaN      NaN     NaN      NaN   \n",
       "5       NaN      NaN     NaN      NaN   \n",
       "6       NaN      NaN     NaN      NaN   \n",
       "7       NaN      NaN     NaN      NaN   \n",
       "8       NaN      NaN     NaN      NaN   \n",
       "9       NaN      NaN     NaN      NaN   \n",
       "10      NaN      NaN     NaN      NaN   \n",
       "11      NaN      NaN     NaN      NaN   \n",
       "12      NaN      NaN     NaN      NaN   \n",
       "13      NaN      NaN     NaN      NaN   \n",
       "14      NaN      NaN     NaN      NaN   \n",
       "15      NaN      NaN     NaN      NaN   \n",
       "16      NaN      NaN     NaN      NaN   \n",
       "17      NaN      NaN     NaN      NaN   \n",
       "18      NaN      NaN     NaN      NaN   \n",
       "19      NaN      NaN     NaN      NaN   \n",
       "\n",
       "                                                 Text  \n",
       "0   Crypto fans rejoice: Bitcoin rallies to the br...  \n",
       "1   Closing Time for Bitcoin’s Iconic Room 77 – ‘A...  \n",
       "2   Video: Fresh Competition Is Shaping The Bitcoi...  \n",
       "3   FinCEN Fines Bitcoin-Mixing CEO $60M in Landma...  \n",
       "4   US Alleges Top Russian Cyber Hackers Tried to ...  \n",
       "5   Market Wrap: Bitcoin Bounces to $11.8K; Over 1...  \n",
       "6   Market Wrap: Bitcoin Bounces to $11.8K; Over 1...  \n",
       "7   3iQ’s The Bitcoin Fund Offers Trading Denomina...  \n",
       "8   Bitcoin price holds strong amid negative news ...  \n",
       "9   Institutional Bitcoin longs at record-high, he...  \n",
       "10  Price analysis 10/19: BTC, ETH, XRP, BCH, BNB,...  \n",
       "11  Number of Bitcoin wallets holding over 100 BTC...  \n",
       "12  Pelosi, Mnuchin Edge Closer to a Stimulus Deal...  \n",
       "13  Bitcoin Price Prediction: BTC recent 3% breako...  \n",
       "14  Cryptocurrencies Price Prediction: Bitcoin, Ri...  \n",
       "15  US financial watchdog fines early Bitcoin mixe...  \n",
       "16  US Treasury hits bitcoin mixer with $60 millio...  \n",
       "17                 Crypto Roundup: October 19th, 2020  \n",
       "18  Bitcoin Rallies While Stocks Stumble: Is The C...  \n",
       "19  Pelosi, Mnuchin Edge Closer to a Stimulus Deal...  "
      ]
     },
     "execution_count": 62,
     "metadata": {},
     "output_type": "execute_result"
    }
   ],
   "source": [
    "test_all('bitcoin')"
   ]
  },
  {
   "cell_type": "code",
   "execution_count": 38,
   "metadata": {},
   "outputs": [],
   "source": [
    "def sentiment_analyzer(headlines):\n",
    "    \"\"\"\n",
    "    Takes headlines from get_articles(keyword), analyzes sentiment, and returns\n",
    "    DataFrame with sentiments listed by [Compound, Negative, Neutral, Postive, Headline]\n",
    "    \"\"\"\n",
    "    sentiments = []\n",
    "    for article in headlines['articles']:\n",
    "        try:\n",
    "            sentiment = analyzer.polarity_scores(article['title'])\n",
    "            sentiments.append({\n",
    "                \"Text\": article['title'],\n",
    "                \"Compound\": sentiment['compound'],\n",
    "                \"Positive\": sentiment['pos'],\n",
    "                \"Negative\": sentiment['neg'],\n",
    "                \"Neutral\": sentiment['neu']\n",
    "            })\n",
    "        except AttributeError:\n",
    "            pass\n",
    "        df = pd.DataFrame(sentiments, columns = [\"Compound\", \"Negative\", \"Neutral\", \"Positive\", \"\"])\n",
    "        return df"
   ]
  },
  {
   "cell_type": "code",
   "execution_count": 39,
   "metadata": {},
   "outputs": [],
   "source": [
    "# kp: to avoid repeating code create function to get_everything for fetching news articles based on keyword\n",
    "def get_articles(keyword):\n",
    "    \"\"\"\n",
    "    Utilizes newsapi.get_everything() to pull today's headlines and return all information\n",
    "    \"\"\"\n",
    "    articles = newsapi.get_everything(\n",
    "        q=keyword,\n",
    "        language=\"en\",\n",
    "        sort_by=\"relevancy\",\n",
    "        page=1,\n",
    "        )\n",
    "    return articles"
   ]
  },
  {
   "cell_type": "code",
   "execution_count": 41,
   "metadata": {},
   "outputs": [
    {
     "data": {
      "text/plain": [
       "[['Bitcoin Approaches $12,000 After Snapping Equities Correlation',\n",
       "  'Crypto fans rejoice: Bitcoin rallies to the brink of $12,000',\n",
       "  'Closing Time for Bitcoin’s Iconic Room 77 – ‘And That’s OK,’ Says Owner',\n",
       "  'Video: Fresh Competition Is Shaping The Bitcoin Mining Hardware And Pool Landscape',\n",
       "  'Introducing CBPI: A New Way To Measure Bitcoin Network Electrical Consumption',\n",
       "  'FinCEN Fines Bitcoin-Mixing CEO $60M in Landmark Crackdown on Helix, Coin Ninja',\n",
       "  'US Alleges Top Russian Cyber Hackers Tried to Cover Digital Tracks With Bitcoin',\n",
       "  'Market Wrap: Bitcoin Bounces to $11.8K; Over 10K BTC Locked in Harvest Finance',\n",
       "  'Market Wrap: Bitcoin Bounces to $11.8K; Over 10K BTC Locked in Harvest Finance',\n",
       "  '3iQ’s The Bitcoin Fund Offers Trading Denominated in Canadian Dollars',\n",
       "  'Bitcoin price holds strong amid negative news blitz, says CoinShares report',\n",
       "  'Institutional Bitcoin longs at record-high, hedge funds short — CME data',\n",
       "  'Price analysis 10/19: BTC, ETH, XRP, BCH, BNB, LINK, DOT, ADA, LTC, BSV',\n",
       "  'Number of Bitcoin wallets holding over 100 BTC tests 6-month high',\n",
       "  'Pelosi, Mnuchin Edge Closer to a Stimulus Deal; Agreement Won’t Guarantee Passage',\n",
       "  'Cryptocurrencies Price Prediction: Bitcoin, Ripple & Binance Coin – American Wrap 19 October',\n",
       "  'Bitcoin Price Prediction: BTC recent 3% breakout could be just the beginning',\n",
       "  'US financial watchdog fines early Bitcoin mixer $60M for money laundering',\n",
       "  'Crypto Roundup: October 19th, 2020',\n",
       "  'Bitcoin Rallies While Stocks Stumble: Is The Correlation Decoupling Finally Here?']]"
      ]
     },
     "execution_count": 41,
     "metadata": {},
     "output_type": "execute_result"
    }
   ],
   "source": [
    "# Fetch the Bitcoin news articles\n",
    "bitcoin_headlines = get_headlines('bitcoin')\n",
    "bitcoin_headlines"
   ]
  },
  {
   "cell_type": "code",
   "execution_count": 36,
   "metadata": {},
   "outputs": [],
   "source": [
    "# Fetch the Ethereum news articles\n",
    "ethereum_headlines = get_articles('ethereum')"
   ]
  },
  {
   "cell_type": "code",
   "execution_count": 26,
   "metadata": {},
   "outputs": [
    {
     "data": {
      "text/html": [
       "<div>\n",
       "<style scoped>\n",
       "    .dataframe tbody tr th:only-of-type {\n",
       "        vertical-align: middle;\n",
       "    }\n",
       "\n",
       "    .dataframe tbody tr th {\n",
       "        vertical-align: top;\n",
       "    }\n",
       "\n",
       "    .dataframe thead th {\n",
       "        text-align: right;\n",
       "    }\n",
       "</style>\n",
       "<table border=\"1\" class=\"dataframe\">\n",
       "  <thead>\n",
       "    <tr style=\"text-align: right;\">\n",
       "      <th></th>\n",
       "      <th>Compound</th>\n",
       "      <th>Negative</th>\n",
       "      <th>Neutral</th>\n",
       "      <th>Positive</th>\n",
       "      <th>Text</th>\n",
       "    </tr>\n",
       "  </thead>\n",
       "  <tbody>\n",
       "    <tr>\n",
       "      <th>0</th>\n",
       "      <td>0.0</td>\n",
       "      <td>0.0</td>\n",
       "      <td>1.0</td>\n",
       "      <td>0.0</td>\n",
       "      <td>'One day everyone will use China's digital cur...</td>\n",
       "    </tr>\n",
       "  </tbody>\n",
       "</table>\n",
       "</div>"
      ],
      "text/plain": [
       "   Compound  Negative  Neutral  Positive  \\\n",
       "0       0.0       0.0      1.0       0.0   \n",
       "\n",
       "                                                Text  \n",
       "0  'One day everyone will use China's digital cur...  "
      ]
     },
     "execution_count": 26,
     "metadata": {},
     "output_type": "execute_result"
    }
   ],
   "source": [
    "# Create the Bitcoin sentiment scores DataFrame\n",
    "sentiment_analyzer(bitcoin_headlines)"
   ]
  },
  {
   "cell_type": "code",
   "execution_count": null,
   "metadata": {},
   "outputs": [],
   "source": [
    "# Create the ethereum sentiment scores DataFrame\n"
   ]
  },
  {
   "cell_type": "code",
   "execution_count": null,
   "metadata": {},
   "outputs": [],
   "source": [
    "# Describe the Bitcoin Sentiment\n",
    "# YOUR CODE HERE!"
   ]
  },
  {
   "cell_type": "code",
   "execution_count": null,
   "metadata": {},
   "outputs": [],
   "source": [
    "# Describe the Ethereum Sentiment\n",
    "# YOUR CODE HERE!"
   ]
  },
  {
   "cell_type": "markdown",
   "metadata": {},
   "source": [
    "### Questions:\n",
    "\n",
    "Q: Which coin had the highest mean positive score?\n",
    "\n",
    "A: \n",
    "\n",
    "Q: Which coin had the highest compound score?\n",
    "\n",
    "A: \n",
    "\n",
    "Q. Which coin had the highest positive score?\n",
    "\n",
    "A: "
   ]
  },
  {
   "cell_type": "markdown",
   "metadata": {},
   "source": [
    "---"
   ]
  },
  {
   "cell_type": "markdown",
   "metadata": {},
   "source": [
    "# Tokenizer\n",
    "\n",
    "In this section, you will use NLTK and Python to tokenize the text for each coin. Be sure to:\n",
    "1. Lowercase each word\n",
    "2. Remove Punctuation\n",
    "3. Remove Stopwords"
   ]
  },
  {
   "cell_type": "code",
   "execution_count": null,
   "metadata": {},
   "outputs": [],
   "source": [
    "from nltk.tokenize import word_tokenize, sent_tokenize\n",
    "from nltk.corpus import stopwords\n",
    "from nltk.stem import WordNetLemmatizer, PorterStemmer\n",
    "from string import punctuation\n",
    "import re"
   ]
  },
  {
   "cell_type": "code",
   "execution_count": null,
   "metadata": {},
   "outputs": [],
   "source": [
    "# Expand the default stopwords list if necessary\n",
    "# YOUR CODE HERE!"
   ]
  },
  {
   "cell_type": "code",
   "execution_count": null,
   "metadata": {},
   "outputs": [],
   "source": [
    "# Complete the tokenizer function\n",
    "def tokenizer(text):\n",
    "    \"\"\"Tokenizes text.\"\"\"\n",
    "    \n",
    "    # Create a list of the words\n",
    "\n",
    "    # Convert the words to lowercase\n",
    "    \n",
    "    # Remove the punctuation\n",
    "    \n",
    "    # Remove the stop words\n",
    "    \n",
    "    # Lemmatize Words into root words\n",
    "    \n",
    "    return tokens\n"
   ]
  },
  {
   "cell_type": "code",
   "execution_count": null,
   "metadata": {},
   "outputs": [],
   "source": [
    "# Create a new tokens column for bitcoin\n",
    "# YOUR CODE HERE!"
   ]
  },
  {
   "cell_type": "code",
   "execution_count": null,
   "metadata": {},
   "outputs": [],
   "source": [
    "# Create a new tokens column for ethereum\n",
    "# YOUR CODE HERE!"
   ]
  },
  {
   "cell_type": "markdown",
   "metadata": {},
   "source": [
    "---"
   ]
  },
  {
   "cell_type": "markdown",
   "metadata": {},
   "source": [
    "# NGrams and Frequency Analysis\n",
    "\n",
    "In this section you will look at the ngrams and word frequency for each coin. \n",
    "\n",
    "1. Use NLTK to produce the n-grams for N = 2. \n",
    "2. List the top 10 words for each coin. "
   ]
  },
  {
   "cell_type": "code",
   "execution_count": null,
   "metadata": {},
   "outputs": [],
   "source": [
    "from collections import Counter\n",
    "from nltk import ngrams"
   ]
  },
  {
   "cell_type": "code",
   "execution_count": null,
   "metadata": {},
   "outputs": [],
   "source": [
    "# Generate the Bitcoin N-grams where N=2\n",
    "# YOUR CODE HERE!"
   ]
  },
  {
   "cell_type": "code",
   "execution_count": null,
   "metadata": {},
   "outputs": [],
   "source": [
    "# Generate the Ethereum N-grams where N=2\n",
    "# YOUR CODE HERE!"
   ]
  },
  {
   "cell_type": "code",
   "execution_count": null,
   "metadata": {},
   "outputs": [],
   "source": [
    "# Use the token_count function to generate the top 10 words from each coin\n",
    "def token_count(tokens, N=10):\n",
    "    \"\"\"Returns the top N tokens from the frequency count\"\"\"\n",
    "    return Counter(tokens).most_common(N)"
   ]
  },
  {
   "cell_type": "code",
   "execution_count": null,
   "metadata": {},
   "outputs": [],
   "source": [
    "# Get the top 10 words for Bitcoin\n",
    "# YOUR CODE HERE!"
   ]
  },
  {
   "cell_type": "code",
   "execution_count": null,
   "metadata": {},
   "outputs": [],
   "source": [
    "# Get the top 10 words for Ethereum\n",
    "# YOUR CODE HERE!"
   ]
  },
  {
   "cell_type": "markdown",
   "metadata": {},
   "source": [
    "# Word Clouds\n",
    "\n",
    "In this section, you will generate word clouds for each coin to summarize the news for each coin"
   ]
  },
  {
   "cell_type": "code",
   "execution_count": null,
   "metadata": {},
   "outputs": [],
   "source": [
    "from wordcloud import WordCloud\n",
    "import matplotlib.pyplot as plt\n",
    "plt.style.use('seaborn-whitegrid')\n",
    "import matplotlib as mpl\n",
    "mpl.rcParams['figure.figsize'] = [20.0, 10.0]"
   ]
  },
  {
   "cell_type": "code",
   "execution_count": null,
   "metadata": {},
   "outputs": [],
   "source": [
    "# Generate the Bitcoin word cloud\n",
    "# YOUR CODE HERE!"
   ]
  },
  {
   "cell_type": "code",
   "execution_count": null,
   "metadata": {},
   "outputs": [],
   "source": [
    "# Generate the Ethereum word cloud\n",
    "# YOUR CODE HERE!"
   ]
  },
  {
   "cell_type": "markdown",
   "metadata": {},
   "source": [
    "# Named Entity Recognition\n",
    "\n",
    "In this section, you will build a named entity recognition model for both coins and visualize the tags using SpaCy."
   ]
  },
  {
   "cell_type": "code",
   "execution_count": null,
   "metadata": {},
   "outputs": [],
   "source": [
    "import spacy\n",
    "from spacy import displacy"
   ]
  },
  {
   "cell_type": "code",
   "execution_count": null,
   "metadata": {},
   "outputs": [],
   "source": [
    "# Optional - download a language model for SpaCy\n",
    "# !python -m spacy download en_core_web_sm"
   ]
  },
  {
   "cell_type": "code",
   "execution_count": null,
   "metadata": {},
   "outputs": [],
   "source": [
    "# Load the spaCy model\n",
    "nlp = spacy.load('en_core_web_sm')"
   ]
  },
  {
   "cell_type": "markdown",
   "metadata": {},
   "source": [
    "## Bitcoin NER"
   ]
  },
  {
   "cell_type": "code",
   "execution_count": null,
   "metadata": {},
   "outputs": [],
   "source": [
    "# Concatenate all of the bitcoin text together\n",
    "# YOUR CODE HERE!"
   ]
  },
  {
   "cell_type": "code",
   "execution_count": null,
   "metadata": {},
   "outputs": [],
   "source": [
    "# Run the NER processor on all of the text\n",
    "# YOUR CODE HERE!\n",
    "\n",
    "# Add a title to the document\n",
    "# YOUR CODE HERE!"
   ]
  },
  {
   "cell_type": "code",
   "execution_count": null,
   "metadata": {},
   "outputs": [],
   "source": [
    "# Render the visualization\n",
    "# YOUR CODE HERE!"
   ]
  },
  {
   "cell_type": "code",
   "execution_count": null,
   "metadata": {},
   "outputs": [],
   "source": [
    "# List all Entities\n",
    "# YOUR CODE HERE!"
   ]
  },
  {
   "cell_type": "markdown",
   "metadata": {},
   "source": [
    "---"
   ]
  },
  {
   "cell_type": "markdown",
   "metadata": {},
   "source": [
    "## Ethereum NER"
   ]
  },
  {
   "cell_type": "code",
   "execution_count": null,
   "metadata": {},
   "outputs": [],
   "source": [
    "# Concatenate all of the bitcoin text together\n",
    "# YOUR CODE HERE!"
   ]
  },
  {
   "cell_type": "code",
   "execution_count": null,
   "metadata": {},
   "outputs": [],
   "source": [
    "# Run the NER processor on all of the text\n",
    "# YOUR CODE HERE!\n",
    "\n",
    "# Add a title to the document\n",
    "# YOUR CODE HERE!"
   ]
  },
  {
   "cell_type": "code",
   "execution_count": null,
   "metadata": {},
   "outputs": [],
   "source": [
    "# Render the visualization\n",
    "# YOUR CODE HERE!"
   ]
  },
  {
   "cell_type": "code",
   "execution_count": null,
   "metadata": {},
   "outputs": [],
   "source": [
    "# List all Entities\n",
    "# YOUR CODE HERE!"
   ]
  }
 ],
 "metadata": {
  "file_extension": ".py",
  "kernelspec": {
   "display_name": "Python 3",
   "language": "python",
   "name": "python3"
  },
  "language_info": {
   "codemirror_mode": {
    "name": "ipython",
    "version": 3
   },
   "file_extension": ".py",
   "mimetype": "text/x-python",
   "name": "python",
   "nbconvert_exporter": "python",
   "pygments_lexer": "ipython3",
   "version": "3.8.3"
  },
  "mimetype": "text/x-python",
  "name": "python",
  "npconvert_exporter": "python",
  "pygments_lexer": "ipython3",
  "version": 3
 },
 "nbformat": 4,
 "nbformat_minor": 4
}
